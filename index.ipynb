{
 "cells": [
  {
   "cell_type": "markdown",
   "metadata": {},
   "source": [
    "# Measures of Dispersion - Quiz\n",
    "\n",
    "## Objectives\n",
    "You will be able to:\n",
    "* Describe the significance of calculating measures of dispersion for continuous data\n",
    "* Understand the formula and intuition behind mean absolute deviation, standard deviation and variance\n",
    "* Understand the formula and intuition behind quantiles/quartiles and percentiles\n",
    "* Understand and interpret Interquartile distances with box plots"
   ]
  },
  {
   "cell_type": "markdown",
   "metadata": {},
   "source": [
    "## Exercise 1\n",
    "Summary statistics for two samples of data are\n",
    "```\n",
    "Sample 1:\t\n",
    "mean = 19 \n",
    "variance = 10\n",
    "\n",
    "Sample 2:\t\n",
    "mean = 10\n",
    "variance = 19\n",
    "```\n",
    "Which sample has the larger spread of observations?"
   ]
  },
  {
   "cell_type": "code",
   "execution_count": 1,
   "metadata": {},
   "outputs": [
    {
     "data": {
      "text/plain": [
       "2"
      ]
     },
     "execution_count": 1,
     "metadata": {},
     "output_type": "execute_result"
    }
   ],
   "source": [
    "# Sample 2 has a greater variance and therefore a larger spread of observations."
   ]
  },
  {
   "cell_type": "markdown",
   "metadata": {},
   "source": [
    "## Exercise 2\n",
    "Consider the following ordered set of data\n",
    "```\n",
    "4 4 4 9 5 0 5 1 5 3 5 7 5 8 6 2\n",
    "\n",
    "6 6 6 6 6 8 7 1 7 5 7 7 8 0 8 5\n",
    "```\n",
    "\n",
    "* What is the IQR? \n",
    "* Optional extension: Verify your answer in Python "
   ]
  },
  {
   "cell_type": "code",
   "execution_count": 7,
   "metadata": {},
   "outputs": [
    {
     "name": "stdout",
     "output_type": "stream",
     "text": [
      "3.0\n",
      "7.0\n",
      "4.0\n",
      "The IQR is 3.0.\n"
     ]
    }
   ],
   "source": [
    "import numpy as np\n",
    "dist = [4, 4, 4, 9, 5, 0, 5, 1, 5, 3, 5, 7, 5, 8, 6, 2, 6, 6, 6, 6, 6, 8, 7, 1, 7, 5, 7, 7, 8, 0, 8, 5]\n",
    "def iqr(dist):\n",
    "    return np.percentile(dist, 75) - np.percentile(dist, 25)\n",
    "\n",
    "print(iqr(dist))\n",
    "print(np.percentile(dist, 75))\n",
    "print(np.percentile(dist, 25))\n",
    "print(f\"The IQR is {iqr(dist)}.\")"
   ]
  },
  {
   "cell_type": "markdown",
   "metadata": {},
   "source": [
    "### Exercise 3\n",
    "Create a box-and-whisker plot for the judges' scores for an artist's performances in a talent competition.\n",
    "\n",
    "```\n",
    "Evan L\t52\n",
    "Nicole S  50\n",
    "Pamela A  47\n",
    "Chad O\t44\n",
    "Erin A\t39\n",
    "Jake P\t38\n",
    "Niecy N   36\n",
    "Kate G\t32\n",
    "```\n",
    "Create a box plot in matplotlib to identify the median for giving a final score to the artist. Are there any outliers ?"
   ]
  },
  {
   "cell_type": "code",
   "execution_count": 14,
   "metadata": {},
   "outputs": [
    {
     "name": "stdout",
     "output_type": "stream",
     "text": [
      "The median is 41.5\n"
     ]
    },
    {
     "data": {
      "image/png": "[encoded data removed]",
      "text/plain": [
       "<Figure size 432x288 with 1 Axes>"
      ]
     },
     "metadata": {},
     "output_type": "display_data"
    },
    {
     "name": "stdout",
     "output_type": "stream",
     "text": [
      "There are no outliers.\n"
     ]
    }
   ],
   "source": [
    "import matplotlib.pyplot as plt\n",
    "plt.style.use('ggplot')\n",
    "dict = {\"Evan L  \":  52,\n",
    "\"Nicole S\":  50,\n",
    "\"Pamela A\":  47,\n",
    "\"Chad O  \":  44,\n",
    "\"Erin A  \":  39,\n",
    "\"Jake P  \":  38,\n",
    "\"Niecy N \":  36,\n",
    "\"Kate G  \":  32}\n",
    "\n",
    "print(f\"The median is {np.median(list(dict.values()))}\")\n",
    "\n",
    "plt.boxplot(list(dict.values()), showfliers=True)\n",
    "plt.show()\n",
    "print(f\"There are no outliers.\")"
   ]
  },
  {
   "cell_type": "code",
   "execution_count": 13,
   "metadata": {},
   "outputs": [
    {
     "name": "stdout",
     "output_type": "stream",
     "text": [
      "41.5\n"
     ]
    }
   ],
   "source": [
    "print(np.median(list(dict.values())))\n"
   ]
  },
  {
   "cell_type": "markdown",
   "metadata": {},
   "source": [
    "### Exercise 4\n",
    "Imagine that the number of marriages registered over a 10 year period were as follows:\n",
    "\n",
    "Table 1.  Number of registered marriages\n",
    "```\n",
    "Year  Number of marriages\n",
    "\n",
    "1\t40,650\n",
    "2\t40,812\n",
    "3\t41,300\n",
    "4\t41,450\n",
    "5\t39,594\n",
    "6\t40,734\n",
    "7\t39,993\n",
    "8\t38,814\n",
    "9\t37,828\n",
    "10   35,716\n",
    "```\n",
    "Using the data above:\n",
    "\n",
    "####  Find the median "
   ]
  },
  {
   "cell_type": "code",
   "execution_count": 33,
   "metadata": {},
   "outputs": [
    {
     "name": "stdout",
     "output_type": "stream",
     "text": [
      "[35716, 37828, 38814, 39594, 39993, 40650, 40743, 40812, 41300, 41450]\n",
      "The median is 40321.5.\n",
      "The mean is 39690.0.\n"
     ]
    }
   ],
   "source": [
    "# Your answer here\n",
    "year = list(range(0,10))\n",
    "year\n",
    "marriages = [40650, 40812, 41300, 41450, 39594, 40743, 39993, 38814, 37828, 35716]\n",
    "marriages.sort()\n",
    "print(marriages)\n",
    "\n",
    "print(f\"The median is {np.median(marriages)}.\")\n",
    "print(f\"The mean is {np.mean(marriages)}.\")"
   ]
  },
  {
   "cell_type": "markdown",
   "metadata": {},
   "source": [
    "#### Find the upper and lower quartiles"
   ]
  },
  {
   "cell_type": "code",
   "execution_count": 34,
   "metadata": {},
   "outputs": [
    {
     "data": {
      "text/plain": [
       "(39009.0, 40794.75)"
      ]
     },
     "execution_count": 34,
     "metadata": {},
     "output_type": "execute_result"
    }
   ],
   "source": [
    "Q1 = np.percentile(marriages, 25)\n",
    "Q3 = np.percentile(marriages, 75)\n",
    "Q1, Q3"
   ]
  },
  {
   "cell_type": "markdown",
   "metadata": {},
   "source": [
    "#### Calculate the interquartile range\n"
   ]
  },
  {
   "cell_type": "code",
   "execution_count": 30,
   "metadata": {},
   "outputs": [
    {
     "data": {
      "text/plain": [
       "1785.75"
      ]
     },
     "execution_count": 30,
     "metadata": {},
     "output_type": "execute_result"
    }
   ],
   "source": [
    "# Your answer here \n",
    "Q3 - Q1"
   ]
  },
  {
   "cell_type": "markdown",
   "metadata": {},
   "source": [
    "#### Plot a boxplot to verify your answers"
   ]
  },
  {
   "cell_type": "code",
   "execution_count": 37,
   "metadata": {},
   "outputs": [
    {
     "data": {
      "text/plain": [
       "Text(0.5, 1.0, 'Marriages by Year - Analysis')"
      ]
     },
     "execution_count": 37,
     "metadata": {},
     "output_type": "execute_result"
    },
    {
     "data": {
      "image/png": "[encoded data removed]",
      "text/plain": [
       "<Figure size 432x288 with 1 Axes>"
      ]
     },
     "metadata": {},
     "output_type": "display_data"
    }
   ],
   "source": [
    "# Your answer here \n",
    "plt.boxplot(marriages, showfliers=True)\n",
    "plt.title(\"Marriages by Year - Analysis\")"
   ]
  }
 ],
 "metadata": {
  "kernelspec": {
   "display_name": "learn-env",
   "language": "python",
   "name": "learn-env"
  },
  "language_info": {
   "codemirror_mode": {
    "name": "ipython",
    "version": 3
   },
   "file_extension": ".py",
   "mimetype": "text/x-python",
   "name": "python",
   "nbconvert_exporter": "python",
   "pygments_lexer": "ipython3",
   "version": "3.6.8"
  }
 },
 "nbformat": 4,
 "nbformat_minor": 2
}
